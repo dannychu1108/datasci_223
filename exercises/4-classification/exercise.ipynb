{
 "cells": [
  {
   "cell_type": "markdown",
   "metadata": {},
   "source": [
    "# Classification on `emnist`\n",
    "\n",
    "## 1. Create `Readme.md` to document your work\n",
    "\n",
    "Explain your choices, process, and outcomes.\n",
    "\n",
    "## 2. Classify all symbols\n",
    "\n",
    "### Choose a model\n",
    "\n",
    "Your choice of model! Choose wisely...\n",
    "\n",
    "### Train away!\n",
    "\n",
    "Is do you need to tune any parameters? Is the model expecting data in a different format?\n",
    "\n",
    "### Evaluate the model\n",
    "\n",
    "Evaluate the models on the test set, analyze the confusion matrix to see where the model performs well and where it struggles.\n",
    "\n",
    "### Investigate subsets\n",
    "\n",
    "On which classes does the model perform well? Poorly? Evaluate again, excluding easily confused symbols (such as 'O' and '0').\n",
    "\n",
    "### Improve performance\n",
    "\n",
    "Brainstorm for improving the performance. This could include trying different architectures, adding more layers, changing the loss function, or using data augmentation techniques.\n",
    "\n",
    "## 2. Classify digits vs. letters model showdown\n",
    "\n",
    "Perform a full showdown classifying digits vs letters:\n",
    "\n",
    "1. Create a column for whether each row is a digit or a letter\n",
    "2. Choose an evaluation metric \n",
    "3. Choose several candidate models to train\n",
    "4. Divide data to reserve a validation set that will NOT be used in training/testing\n",
    "5. K-fold train/test\n",
    "    1. Create train/test splits from the non-validation dataset \n",
    "    2. Train each candidate model (best practice: use the same split for all models)\n",
    "    3. Apply the model the the test split \n",
    "    4. (*Optional*) Perform hyper-parametric search\n",
    "    5. Record the model evaluation metrics\n",
    "    6. Repeat with a new train/test split\n",
    "6. Promote winner, apply model to validation set\n",
    "7. (*Optional*) Perform hyper-parametric search, if applicable\n",
    "8. Report model performance"
   ]
  },
  {
   "cell_type": "markdown",
   "metadata": {},
   "source": []
  },
  {
   "cell_type": "code",
   "execution_count": 1,
   "metadata": {},
   "outputs": [],
   "source": [
    "# Import packages\n",
    "import string\n",
    "import pandas as pd\n",
    "import numpy as np\n",
    "import matplotlib.pyplot as plt\n",
    "import emnist\n",
    "from hashlib import sha1"
   ]
  },
  {
   "cell_type": "code",
   "execution_count": 3,
   "metadata": {},
   "outputs": [],
   "source": [
    "# Load the data, and reshape it into a 28x28 array\n",
    "\n",
    "# The size of each image is 28x28 pixels\n",
    "size = 28 \n",
    "\n",
    "# Extract the training split as images and labels\n",
    "image, label = emnist.extract_training_samples('byclass')\n",
    "\n",
    "# Add columns for each pixel value (28x28 = 784 columns)\n",
    "raw_train = pd.DataFrame()\n",
    "\n",
    "# Add a column showing the label\n",
    "raw_train['label'] = label\n",
    "\n",
    "# Add a column with the image data as a 28x28 array\n",
    "raw_train['image'] = list(image)\n",
    "\n",
    "\n",
    "# Repeat for the test split\n",
    "image, label = emnist.extract_test_samples('byclass')\n",
    "raw_test = pd.DataFrame()\n",
    "raw_test['label'] = label\n",
    "raw_test['image'] = list(image)"
   ]
  },
  {
   "cell_type": "code",
   "execution_count": 4,
   "metadata": {},
   "outputs": [],
   "source": [
    "# Let's start cleaning!\n",
    "\n",
    "# Labels! They're hard to understand as numbers, so let's map them to characters\n",
    "# We can do this by manually creating a dictionary:\n",
    "LABELS = ['0', '1', '2', '3', '4', '5', '6', '7', '8', '9', \n",
    "          'A', 'B', 'C', 'D', 'E', 'F', 'G', 'H', 'I', 'J', 'K', 'L', 'M', 'N', 'O', 'P', 'Q', 'R', 'S', 'T', 'U', 'V', 'W', 'X', 'Y', 'Z',\n",
    "          'a', 'b', 'c', 'd', 'e', 'f', 'g', 'h', 'i', 'j', 'k', 'l', 'm', 'n', 'o', 'p', 'q', 'r', 's', 't', 'u', 'v', 'w', 'x', 'y', 'z']\n",
    "\n",
    "# Or generate the list of labels using the following code:\n",
    "# create the characters list, which is the digits, then uppercase, then lowercase\n",
    "chars = string.digits + string.ascii_uppercase + string.ascii_lowercase\n",
    "# create the dictionary mapping the numbers to the characters\n",
    "num_to_char = {i: chars[i] for i in range(len(chars))}"
   ]
  },
  {
   "cell_type": "code",
   "execution_count": 9,
   "metadata": {},
   "outputs": [
    {
     "name": "stdout",
     "output_type": "stream",
     "text": [
      "       mapped_label\n",
      "0                 Z\n",
      "1                 a\n",
      "2                 6\n",
      "3                 3\n",
      "4                 M\n",
      "...             ...\n",
      "697927            e\n",
      "697928            l\n",
      "697929            5\n",
      "697930            B\n",
      "697931            M\n",
      "\n",
      "[697932 rows x 1 columns]\n",
      "0         letter\n",
      "1         letter\n",
      "2         number\n",
      "3         number\n",
      "4         letter\n",
      "           ...  \n",
      "697927    letter\n",
      "697928    letter\n",
      "697929    number\n",
      "697930    letter\n",
      "697931    letter\n",
      "Name: label_cat, Length: 697932, dtype: object\n"
     ]
    }
   ],
   "source": [
    "raw_train['mapped_label'] = raw_train['label'].map(num_to_char)\n",
    "print(raw_train[['mapped_label']])\n",
    "\n",
    "def label_category(value):\n",
    "    if pd.isnull(value):\n",
    "        return pd.NA  # Use pd.NA for missing values\n",
    "    # Try to convert to numeric, and check if the result is not NaN\n",
    "    elif not pd.isnull(pd.to_numeric(value, errors='coerce')):\n",
    "        return 'number'\n",
    "    elif isinstance(value, str) and value.isalpha():\n",
    "        return 'letter'\n",
    "    else:\n",
    "        return pd.NA  # Use pd.NA for any other case that is considered missing\n",
    "\n",
    "raw_train['label_cat'] = raw_train['mapped_label'].apply(label_category)\n",
    "print(raw_train['label_cat'])"
   ]
  },
  {
   "cell_type": "code",
   "execution_count": 10,
   "metadata": {},
   "outputs": [
    {
     "name": "stdout",
     "output_type": "stream",
     "text": [
      "0         0\n",
      "1         0\n",
      "2         1\n",
      "3         1\n",
      "4         0\n",
      "         ..\n",
      "697927    0\n",
      "697928    0\n",
      "697929    1\n",
      "697930    0\n",
      "697931    0\n",
      "Name: label_cat_code, Length: 697932, dtype: int64\n"
     ]
    }
   ],
   "source": [
    "def label_category_code(value):\n",
    "    if pd.isnull(value):\n",
    "        return pd.NA  # Use pd.NA for missing values\n",
    "    # Try to convert to numeric, and check if the result is not NaN\n",
    "    elif not pd.isnull(pd.to_numeric(value, errors='coerce')):\n",
    "        return 1\n",
    "    elif isinstance(value, str) and value.isalpha():\n",
    "        return 0\n",
    "    else:\n",
    "        return pd.NA  # Use pd.NA for any other case that is considered missing\n",
    "    \n",
    "raw_train['label_cat_code'] = raw_train['mapped_label'].apply(label_category_code)\n",
    "print(raw_train['label_cat_code'])"
   ]
  },
  {
   "cell_type": "code",
   "execution_count": null,
   "metadata": {},
   "outputs": [],
   "source": []
  }
 ],
 "metadata": {
  "kernelspec": {
   "display_name": "Python 3",
   "language": "python",
   "name": "python3"
  },
  "language_info": {
   "codemirror_mode": {
    "name": "ipython",
    "version": 3
   },
   "file_extension": ".py",
   "mimetype": "text/x-python",
   "name": "python",
   "nbconvert_exporter": "python",
   "pygments_lexer": "ipython3",
   "version": "3.11.7"
  }
 },
 "nbformat": 4,
 "nbformat_minor": 2
}
