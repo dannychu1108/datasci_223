{
 "cells": [
  {
   "cell_type": "markdown",
   "metadata": {},
   "source": [
    "# Exercise: Analyzing Chinook Database\n",
    "\n",
    "Preparation I've done:\n",
    " - Retrieve the dataset and load it\n",
    " - Load the %sql extension and point it at the database\n",
    " - Display the tables and an example query\n",
    "\n",
    "Additional steps you might take:\n",
    " - Add libraries for visualization (matplotlib, seaborn, plotly)\n",
    " - Add libraries for statistics (numpy)\n",
    " - Explore the dataset using SQL and/or pandas\n",
    "\n",
    "----\n",
    "\n",
    "1. Retrieve a list of all the tracks in the database, displaying only the track name and the name of the album it belongs to. Limit the result to the first 5 rows.\n",
    "   > Operations: `SELECT`\n",
    "2. Find the total number of customers from each country. Display the country name and the corresponding count. Order the results by the count in descending order.\n",
    "   > Operations: `SELECT`, `COUNT`, `GROUP BY`, `ORDER BY`\n",
    "3. Identify the top 5 genres with the highest number of tracks. Display the genre name along with the total number of tracks for each genre.\n",
    "   > Operations: `SELECT`, `COUNT`, `GROUP BY`, `ORDER BY`\n",
    "4. Determine the average invoice total for each customer, considering both the album and individual track purchases. Display the customer's first and last name along with the average invoice total. Order the results by the average invoice total in descending order.\n",
    "   > Operations: `SELECT`, `AVG`, `JOIN`, `GROUP BY`, `ORDER BY`\n",
    "5. Identify the customer who spent the most on music purchases. Display the customer's first and last name, along with the total amount spent.\n",
    "   > Operations: `SELECT`, `SUM`, `JOIN`, `GROUP BY`, `ORDER BY`, `LIMIT`"
   ]
  },
  {
   "cell_type": "code",
   "execution_count": 1,
   "metadata": {},
   "outputs": [
    {
     "name": "stderr",
     "output_type": "stream",
     "text": [
      "/var/folders/fg/nc6l7t216_z_mj4y85bhl4wc0000gn/T/ipykernel_31549/3338115602.py:2: DeprecationWarning: \n",
      "Pyarrow will become a required dependency of pandas in the next major release of pandas (pandas 3.0),\n",
      "(to allow more performant data types, such as the Arrow string type, and better interoperability with other libraries)\n",
      "but was not found to be installed on your system.\n",
      "If this would cause problems for you,\n",
      "please provide us feedback at https://github.com/pandas-dev/pandas/issues/54466\n",
      "        \n",
      "  import pandas as pd\n"
     ]
    },
    {
     "name": "stdout",
     "output_type": "stream",
     "text": [
      " * sqlite:///chinook.sqlite\n",
      "Done.\n"
     ]
    },
    {
     "data": {
      "text/html": [
       "<table>\n",
       "    <thead>\n",
       "        <tr>\n",
       "            <th>name</th>\n",
       "        </tr>\n",
       "    </thead>\n",
       "    <tbody>\n",
       "        <tr>\n",
       "            <td>albums</td>\n",
       "        </tr>\n",
       "        <tr>\n",
       "            <td>sqlite_sequence</td>\n",
       "        </tr>\n",
       "        <tr>\n",
       "            <td>artists</td>\n",
       "        </tr>\n",
       "        <tr>\n",
       "            <td>customers</td>\n",
       "        </tr>\n",
       "        <tr>\n",
       "            <td>employees</td>\n",
       "        </tr>\n",
       "        <tr>\n",
       "            <td>genres</td>\n",
       "        </tr>\n",
       "        <tr>\n",
       "            <td>invoices</td>\n",
       "        </tr>\n",
       "        <tr>\n",
       "            <td>invoice_items</td>\n",
       "        </tr>\n",
       "        <tr>\n",
       "            <td>media_types</td>\n",
       "        </tr>\n",
       "        <tr>\n",
       "            <td>playlists</td>\n",
       "        </tr>\n",
       "        <tr>\n",
       "            <td>playlist_track</td>\n",
       "        </tr>\n",
       "        <tr>\n",
       "            <td>tracks</td>\n",
       "        </tr>\n",
       "        <tr>\n",
       "            <td>sqlite_stat1</td>\n",
       "        </tr>\n",
       "    </tbody>\n",
       "</table>"
      ],
      "text/plain": [
       "[('albums',),\n",
       " ('sqlite_sequence',),\n",
       " ('artists',),\n",
       " ('customers',),\n",
       " ('employees',),\n",
       " ('genres',),\n",
       " ('invoices',),\n",
       " ('invoice_items',),\n",
       " ('media_types',),\n",
       " ('playlists',),\n",
       " ('playlist_track',),\n",
       " ('tracks',),\n",
       " ('sqlite_stat1',)]"
      ]
     },
     "metadata": {},
     "output_type": "display_data"
    },
    {
     "name": "stdout",
     "output_type": "stream",
     "text": [
      " * sqlite:///chinook.sqlite\n",
      "Done.\n"
     ]
    },
    {
     "data": {
      "text/html": [
       "<table>\n",
       "    <thead>\n",
       "        <tr>\n",
       "            <th>AlbumId</th>\n",
       "            <th>Title</th>\n",
       "            <th>ArtistId</th>\n",
       "        </tr>\n",
       "    </thead>\n",
       "    <tbody>\n",
       "        <tr>\n",
       "            <td>1</td>\n",
       "            <td>For Those About To Rock We Salute You</td>\n",
       "            <td>1</td>\n",
       "        </tr>\n",
       "        <tr>\n",
       "            <td>2</td>\n",
       "            <td>Balls to the Wall</td>\n",
       "            <td>2</td>\n",
       "        </tr>\n",
       "        <tr>\n",
       "            <td>3</td>\n",
       "            <td>Restless and Wild</td>\n",
       "            <td>2</td>\n",
       "        </tr>\n",
       "        <tr>\n",
       "            <td>4</td>\n",
       "            <td>Let There Be Rock</td>\n",
       "            <td>1</td>\n",
       "        </tr>\n",
       "        <tr>\n",
       "            <td>5</td>\n",
       "            <td>Big Ones</td>\n",
       "            <td>3</td>\n",
       "        </tr>\n",
       "    </tbody>\n",
       "</table>"
      ],
      "text/plain": [
       "[(1, 'For Those About To Rock We Salute You', 1),\n",
       " (2, 'Balls to the Wall', 2),\n",
       " (3, 'Restless and Wild', 2),\n",
       " (4, 'Let There Be Rock', 1),\n",
       " (5, 'Big Ones', 3)]"
      ]
     },
     "metadata": {},
     "output_type": "display_data"
    }
   ],
   "source": [
    "# Load chinook dataset and query it using SQL magic into pandas dataframes\n",
    "import pandas as pd\n",
    "import sqlite3\n",
    "%load_ext sql\n",
    "\n",
    "# Load data\n",
    "conn = sqlite3.connect(\"chinook.sqlite\")\n",
    "\n",
    "# Tell %sql about the database\n",
    "%sql sqlite:///chinook.sqlite\n",
    "\n",
    "# List tables in database\n",
    "query = \"SELECT name FROM sqlite_master WHERE type='table';\"\n",
    "\n",
    "# Read data into a Pandas DataFrame\n",
    "tables = %sql $query\n",
    "\n",
    "# Print head\n",
    "display(tables)\n",
    "\n",
    "# Query to get the first 5 rows of the `albums` table\n",
    "result = %sql SELECT * FROM albums LIMIT 5;\n",
    "\n",
    "# Display query result, note that Pandas DataFrame is returned!\n",
    "display(result)\n"
   ]
  },
  {
   "cell_type": "markdown",
   "metadata": {},
   "source": [
    "1. Retrieve a list of all the tracks in the database, displaying only the track name and the name of the album it belongs to. Limit the result to the first 5 rows.\n",
    "   > Operations: `SELECT`"
   ]
  },
  {
   "cell_type": "code",
   "execution_count": 31,
   "metadata": {},
   "outputs": [
    {
     "name": "stdout",
     "output_type": "stream",
     "text": [
      " * sqlite:///chinook.sqlite\n",
      "Done.\n"
     ]
    },
    {
     "data": {
      "text/html": [
       "<table>\n",
       "    <thead>\n",
       "        <tr>\n",
       "            <th>Track name</th>\n",
       "            <th>Album title</th>\n",
       "        </tr>\n",
       "    </thead>\n",
       "    <tbody>\n",
       "        <tr>\n",
       "            <td>For Those About To Rock (We Salute You)</td>\n",
       "            <td>For Those About To Rock We Salute You</td>\n",
       "        </tr>\n",
       "        <tr>\n",
       "            <td>Put The Finger On You</td>\n",
       "            <td>For Those About To Rock We Salute You</td>\n",
       "        </tr>\n",
       "        <tr>\n",
       "            <td>Let&#x27;s Get It Up</td>\n",
       "            <td>For Those About To Rock We Salute You</td>\n",
       "        </tr>\n",
       "        <tr>\n",
       "            <td>Inject The Venom</td>\n",
       "            <td>For Those About To Rock We Salute You</td>\n",
       "        </tr>\n",
       "        <tr>\n",
       "            <td>Snowballed</td>\n",
       "            <td>For Those About To Rock We Salute You</td>\n",
       "        </tr>\n",
       "    </tbody>\n",
       "</table>"
      ],
      "text/plain": [
       "[('For Those About To Rock (We Salute You)', 'For Those About To Rock We Salute You'),\n",
       " ('Put The Finger On You', 'For Those About To Rock We Salute You'),\n",
       " (\"Let's Get It Up\", 'For Those About To Rock We Salute You'),\n",
       " ('Inject The Venom', 'For Those About To Rock We Salute You'),\n",
       " ('Snowballed', 'For Those About To Rock We Salute You')]"
      ]
     },
     "metadata": {},
     "output_type": "display_data"
    }
   ],
   "source": [
    "result1 = %sql SELECT t.Name as \"Track name\", a.title as \"Album title\" FROM tracks t INNER JOIN albums a ON t.AlbumID = a.AlbumID LIMIT 5;\n",
    "display(result1)"
   ]
  },
  {
   "cell_type": "markdown",
   "metadata": {},
   "source": []
  },
  {
   "cell_type": "code",
   "execution_count": null,
   "metadata": {},
   "outputs": [],
   "source": []
  }
 ],
 "metadata": {
  "kernelspec": {
   "display_name": ".venv",
   "language": "python",
   "name": "python3"
  },
  "language_info": {
   "codemirror_mode": {
    "name": "ipython",
    "version": 3
   },
   "file_extension": ".py",
   "mimetype": "text/x-python",
   "name": "python",
   "nbconvert_exporter": "python",
   "pygments_lexer": "ipython3",
   "version": "3.11.7"
  }
 },
 "nbformat": 4,
 "nbformat_minor": 2
}
